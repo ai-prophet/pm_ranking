{
 "cells": [
  {
   "cell_type": "code",
   "execution_count": 17,
   "metadata": {},
   "outputs": [
    {
     "name": "stderr",
     "output_type": "stream",
     "text": [
      "Matplotlib is building the font cache; this may take a moment.\n"
     ]
    }
   ],
   "source": [
    "import pandas as pd\n",
    "import matplotlib.pyplot as plt"
   ]
  },
  {
   "cell_type": "markdown",
   "metadata": {},
   "source": [
    "### Load the metadata and predictions"
   ]
  },
  {
   "cell_type": "code",
   "execution_count": 38,
   "metadata": {},
   "outputs": [
    {
     "name": "stdout",
     "output_type": "stream",
     "text": [
      "# of problems:  78 \n",
      "# of predictions:  3523\n"
     ]
    }
   ],
   "source": [
    "METADATA_FILE = \"../data/sports_challenge_metadata.json\"\n",
    "PREDICTIONS_FILE = \"../data/all_predictions.json\"\n",
    "\n",
    "with open(METADATA_FILE, \"r\") as f:\n",
    "    metadata = pd.read_json(f)\n",
    "\n",
    "with open(PREDICTIONS_FILE, \"r\") as f:\n",
    "    predictions = pd.read_json(f)\n",
    "\n",
    "print(\"# of problems: \", len(metadata), \"\\n# of predictions: \", len(predictions))"
   ]
  },
  {
   "cell_type": "code",
   "execution_count": 22,
   "metadata": {},
   "outputs": [
    {
     "data": {
      "text/plain": [
       "<Axes: ylabel='Frequency'>"
      ]
     },
     "execution_count": 22,
     "metadata": {},
     "output_type": "execute_result"
    },
    {
     "data": {
      "image/png": "[encoded data removed]",
      "text/plain": [
       "<Figure size 640x480 with 1 Axes>"
      ]
     },
     "metadata": {},
     "output_type": "display_data"
    }
   ],
   "source": [
    "# plot the distribution of the number of predictions per problem\n",
    "pred_count = predictions.groupby(\"problem_id\").size()\n",
    "\n",
    "plt.tight_layout()\n",
    "pred_count.plot(kind=\"hist\", bins=30)"
   ]
  },
  {
   "cell_type": "code",
   "execution_count": 23,
   "metadata": {},
   "outputs": [
    {
     "name": "stdout",
     "output_type": "stream",
     "text": [
      "username\n",
      "Mi                     78\n",
      "cdob63                 78\n",
      "sigis                  78\n",
      "salinas                74\n",
      "Jayce                  72\n",
      "SE_Meyer               69\n",
      "popzeus                68\n",
      "caesar2084             68\n",
      "MagicTheatre4MadMen    61\n",
      "YuehanSimizi           51\n",
      "dtype: int64\n"
     ]
    }
   ],
   "source": [
    "# see how many predictions each forecaster made\n",
    "\n",
    "forecaster_pred_count = predictions.groupby(\"username\").size()\n",
    "# print the top 10 forecasters by number of predictions\n",
    "print(forecaster_pred_count.sort_values(ascending=False).head(10))"
   ]
  },
  {
   "cell_type": "code",
   "execution_count": 30,
   "metadata": {},
   "outputs": [
    {
     "name": "stdout",
     "output_type": "stream",
     "text": [
      "# of predictions:  916\n",
      "# of users:  15\n",
      "# of problems:  78\n"
     ]
    }
   ],
   "source": [
    "# we filter the predictions to only include users who made at least K predictions\n",
    "K = 40\n",
    "\n",
    "filtered_predictions = predictions[predictions[\"username\"].isin(\n",
    "    predictions.groupby(\"username\").size().index[predictions.groupby(\"username\").size() >= K])]\n",
    "\n",
    "print(\"# of predictions: \", len(filtered_predictions))\n",
    "print(\"# of users: \", len(filtered_predictions[\"username\"].unique()))\n",
    "print(\"# of problems: \", len(filtered_predictions[\"problem_id\"].unique()))"
   ]
  },
  {
   "cell_type": "code",
   "execution_count": 49,
   "metadata": {},
   "outputs": [
    {
     "data": {
      "text/html": [
       "<div>\n",
       "<style scoped>\n",
       "    .dataframe tbody tr th:only-of-type {\n",
       "        vertical-align: middle;\n",
       "    }\n",
       "\n",
       "    .dataframe tbody tr th {\n",
       "        vertical-align: top;\n",
       "    }\n",
       "\n",
       "    .dataframe thead th {\n",
       "        text-align: right;\n",
       "    }\n",
       "</style>\n",
       "<table border=\"1\" class=\"dataframe\">\n",
       "  <thead>\n",
       "    <tr style=\"text-align: right;\">\n",
       "      <th></th>\n",
       "      <th>username</th>\n",
       "      <th>brier_score</th>\n",
       "    </tr>\n",
       "  </thead>\n",
       "  <tbody>\n",
       "    <tr>\n",
       "      <th>24</th>\n",
       "      <td>sigis</td>\n",
       "      <td>0.1600</td>\n",
       "    </tr>\n",
       "    <tr>\n",
       "      <th>28</th>\n",
       "      <td>cdob63</td>\n",
       "      <td>0.0900</td>\n",
       "    </tr>\n",
       "    <tr>\n",
       "      <th>33</th>\n",
       "      <td>sctlarok</td>\n",
       "      <td>0.0784</td>\n",
       "    </tr>\n",
       "    <tr>\n",
       "      <th>34</th>\n",
       "      <td>YuehanSimizi</td>\n",
       "      <td>0.0400</td>\n",
       "    </tr>\n",
       "    <tr>\n",
       "      <th>35</th>\n",
       "      <td>J-Z</td>\n",
       "      <td>0.2500</td>\n",
       "    </tr>\n",
       "  </tbody>\n",
       "</table>\n",
       "</div>"
      ],
      "text/plain": [
       "        username  brier_score\n",
       "24         sigis       0.1600\n",
       "28        cdob63       0.0900\n",
       "33      sctlarok       0.0784\n",
       "34  YuehanSimizi       0.0400\n",
       "35           J-Z       0.2500"
      ]
     },
     "execution_count": 49,
     "metadata": {},
     "output_type": "execute_result"
    }
   ],
   "source": [
    "def calculate_brier_score(prediction_df: pd.DataFrame, metadata_df: pd.DataFrame) -> pd.DataFrame:\n",
    "    # we first use the metadata to create a mapping of problem_id to the index of the correct answer\n",
    "    problem_id_to_correct_answer = dict()\n",
    "\n",
    "    for problem_item in metadata_df.itertuples():\n",
    "        correct_id = problem_item.options.index(problem_item.correct_answer)\n",
    "        problem_id_to_correct_answer[problem_item.problem_id] = correct_id\n",
    "\n",
    "    # map each prediction in prediction_df to the correct answer\n",
    "    def map_fn(row):\n",
    "        return (1 - row.prediction[problem_id_to_correct_answer[row.problem_id]]) ** 2\n",
    "\n",
    "    # combine the username from prediction_df and the mapped prediction into a new dataframe\n",
    "    brier_score_df = pd.DataFrame(data = {\n",
    "        \"username\": prediction_df.username,\n",
    "        \"brier_score\": prediction_df.apply(map_fn, axis=1)\n",
    "    })\n",
    "\n",
    "    return brier_score_df\n",
    "\n",
    "\n",
    "brier_score_df = calculate_brier_score(filtered_predictions, metadata)\n",
    "\n",
    "brier_score_df.head()"
   ]
  },
  {
   "cell_type": "code",
   "execution_count": 52,
   "metadata": {},
   "outputs": [
    {
     "data": {
      "text/html": [
       "<div>\n",
       "<style scoped>\n",
       "    .dataframe tbody tr th:only-of-type {\n",
       "        vertical-align: middle;\n",
       "    }\n",
       "\n",
       "    .dataframe tbody tr th {\n",
       "        vertical-align: top;\n",
       "    }\n",
       "\n",
       "    .dataframe thead th {\n",
       "        text-align: right;\n",
       "    }\n",
       "</style>\n",
       "<table border=\"1\" class=\"dataframe\">\n",
       "  <thead>\n",
       "    <tr style=\"text-align: right;\">\n",
       "      <th></th>\n",
       "      <th>brier_score</th>\n",
       "      <th>num_predictions</th>\n",
       "    </tr>\n",
       "    <tr>\n",
       "      <th>username</th>\n",
       "      <th></th>\n",
       "      <th></th>\n",
       "    </tr>\n",
       "  </thead>\n",
       "  <tbody>\n",
       "    <tr>\n",
       "      <th>smitch15</th>\n",
       "      <td>0.062535</td>\n",
       "      <td>40</td>\n",
       "    </tr>\n",
       "    <tr>\n",
       "      <th>YuehanSimizi</th>\n",
       "      <td>0.083461</td>\n",
       "      <td>51</td>\n",
       "    </tr>\n",
       "    <tr>\n",
       "      <th>sigis</th>\n",
       "      <td>0.103836</td>\n",
       "      <td>78</td>\n",
       "    </tr>\n",
       "    <tr>\n",
       "      <th>sctlarok</th>\n",
       "      <td>0.111066</td>\n",
       "      <td>41</td>\n",
       "    </tr>\n",
       "    <tr>\n",
       "      <th>salinas</th>\n",
       "      <td>0.116323</td>\n",
       "      <td>74</td>\n",
       "    </tr>\n",
       "    <tr>\n",
       "      <th>cdob63</th>\n",
       "      <td>0.116592</td>\n",
       "      <td>78</td>\n",
       "    </tr>\n",
       "    <tr>\n",
       "      <th>Jayce</th>\n",
       "      <td>0.119622</td>\n",
       "      <td>72</td>\n",
       "    </tr>\n",
       "    <tr>\n",
       "      <th>popzeus</th>\n",
       "      <td>0.121800</td>\n",
       "      <td>68</td>\n",
       "    </tr>\n",
       "    <tr>\n",
       "      <th>J-Z</th>\n",
       "      <td>0.125360</td>\n",
       "      <td>48</td>\n",
       "    </tr>\n",
       "    <tr>\n",
       "      <th>Mi</th>\n",
       "      <td>0.153846</td>\n",
       "      <td>78</td>\n",
       "    </tr>\n",
       "    <tr>\n",
       "      <th>SE_Meyer</th>\n",
       "      <td>0.199055</td>\n",
       "      <td>69</td>\n",
       "    </tr>\n",
       "    <tr>\n",
       "      <th>john27</th>\n",
       "      <td>0.225638</td>\n",
       "      <td>50</td>\n",
       "    </tr>\n",
       "    <tr>\n",
       "      <th>caesar2084</th>\n",
       "      <td>0.312243</td>\n",
       "      <td>68</td>\n",
       "    </tr>\n",
       "    <tr>\n",
       "      <th>aaron_vernon</th>\n",
       "      <td>0.344225</td>\n",
       "      <td>40</td>\n",
       "    </tr>\n",
       "    <tr>\n",
       "      <th>MagicTheatre4MadMen</th>\n",
       "      <td>0.609374</td>\n",
       "      <td>61</td>\n",
       "    </tr>\n",
       "  </tbody>\n",
       "</table>\n",
       "</div>"
      ],
      "text/plain": [
       "                     brier_score  num_predictions\n",
       "username                                         \n",
       "smitch15                0.062535               40\n",
       "YuehanSimizi            0.083461               51\n",
       "sigis                   0.103836               78\n",
       "sctlarok                0.111066               41\n",
       "salinas                 0.116323               74\n",
       "cdob63                  0.116592               78\n",
       "Jayce                   0.119622               72\n",
       "popzeus                 0.121800               68\n",
       "J-Z                     0.125360               48\n",
       "Mi                      0.153846               78\n",
       "SE_Meyer                0.199055               69\n",
       "john27                  0.225638               50\n",
       "caesar2084              0.312243               68\n",
       "aaron_vernon            0.344225               40\n",
       "MagicTheatre4MadMen     0.609374               61"
      ]
     },
     "execution_count": 52,
     "metadata": {},
     "output_type": "execute_result"
    }
   ],
   "source": [
    "# rank the forecasters by averaging the brier scores in brier_score_df\n",
    "averaged_brier_score_by_forecaster = brier_score_df.groupby(\"username\").mean()\n",
    "# add the number of predictions made by each forecaster\n",
    "averaged_brier_score_by_forecaster[\"num_predictions\"] = brier_score_df.groupby(\"username\").size()\n",
    "# sort by the averaged brier score\n",
    "averaged_brier_score_by_forecaster.sort_values(by=\"brier_score\", ascending=True)"
   ]
  },
  {
   "cell_type": "code",
   "execution_count": null,
   "metadata": {},
   "outputs": [],
   "source": [
    "# The above result is slightly different from the official leaderboard:\n",
    "# https://www.gjopen.com/leaderboards/challenges/97-sportsball-challenge?filter=true&min_scored_questions=40\n",
    "# which is not simply based on the brier score."
   ]
  }
 ],
 "metadata": {
  "kernelspec": {
   "display_name": ".venv",
   "language": "python",
   "name": "python3"
  },
  "language_info": {
   "codemirror_mode": {
    "name": "ipython",
    "version": 3
   },
   "file_extension": ".py",
   "mimetype": "text/x-python",
   "name": "python",
   "nbconvert_exporter": "python",
   "pygments_lexer": "ipython3",
   "version": "3.12.8"
  }
 },
 "nbformat": 4,
 "nbformat_minor": 2
}
